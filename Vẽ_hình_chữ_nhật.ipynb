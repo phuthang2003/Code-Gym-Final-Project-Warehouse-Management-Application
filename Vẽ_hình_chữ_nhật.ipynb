{
 "cells": [
  {
   "cell_type": "code",
   "execution_count": 1,
   "metadata": {},
   "outputs": [],
   "source": [
    "import turtle"
   ]
  },
  {
   "cell_type": "code",
   "execution_count": 2,
   "metadata": {},
   "outputs": [],
   "source": [
    "color = input(\"Nhập màu hoặc mã màu: \")\n",
    "w = float(input(\"Nhập chiều dài hình chữ nhật: \"))\n",
    "h = float(input(\"Nhập chiều rộng hình chữ nhật: \"))"
   ]
  },
  {
   "cell_type": "code",
   "execution_count": 3,
   "metadata": {},
   "outputs": [],
   "source": [
    "t = turtle.Turtle()\n",
    "t.hideturtle()"
   ]
  },
  {
   "cell_type": "code",
   "execution_count": 4,
   "metadata": {},
   "outputs": [],
   "source": [
    "t.color(color)\n",
    "t.begin_fill()"
   ]
  },
  {
   "cell_type": "code",
   "execution_count": 5,
   "metadata": {},
   "outputs": [],
   "source": [
    "t.forward(w)\n",
    "t.right(90)"
   ]
  },
  {
   "cell_type": "code",
   "execution_count": 6,
   "metadata": {},
   "outputs": [],
   "source": [
    "t.forward(h)\n",
    "t.right(90)"
   ]
  },
  {
   "cell_type": "code",
   "execution_count": 7,
   "metadata": {},
   "outputs": [],
   "source": [
    "t.forward(w)\n",
    "t.right(90)"
   ]
  },
  {
   "cell_type": "code",
   "execution_count": 8,
   "metadata": {},
   "outputs": [],
   "source": [
    "t.forward(h)\n",
    "t.end_fill()"
   ]
  },
  {
   "cell_type": "code",
   "execution_count": 9,
   "metadata": {},
   "outputs": [],
   "source": [
    "turtle.done()"
   ]
  },
  {
   "cell_type": "code",
   "execution_count": 10,
   "metadata": {},
   "outputs": [],
   "source": [
    "c = 2 * (w + h)\n",
    "s = w * h"
   ]
  },
  {
   "cell_type": "code",
   "execution_count": 11,
   "metadata": {},
   "outputs": [
    {
     "name": "stdout",
     "output_type": "stream",
     "text": [
      "Chu vi của hình chữ nhật (dài = 10.0, rộng = 5.0) là 30.0\n",
      "Diện tích của hình chữ nhật (dài = 10.0, rộng = 5.0) là 50.0\n"
     ]
    }
   ],
   "source": [
    "print(\"Chu vi của hình chữ nhật (dài = {w}, rộng = {h}) là {c}\".format(w=w, h=h, c=c))\n",
    "print(\"Diện tích của hình chữ nhật (dài = {w}, rộng = {h}) là {s}\".format(w=w, h=h, s=s))"
   ]
  }
 ],
 "metadata": {
  "kernelspec": {
   "display_name": "Python 3",
   "language": "python",
   "name": "python3"
  },
  "language_info": {
   "codemirror_mode": {
    "name": "ipython",
    "version": 3
   },
   "file_extension": ".py",
   "mimetype": "text/x-python",
   "name": "python",
   "nbconvert_exporter": "python",
   "pygments_lexer": "ipython3",
   "version": "3.12.3"
  }
 },
 "nbformat": 4,
 "nbformat_minor": 2
}
