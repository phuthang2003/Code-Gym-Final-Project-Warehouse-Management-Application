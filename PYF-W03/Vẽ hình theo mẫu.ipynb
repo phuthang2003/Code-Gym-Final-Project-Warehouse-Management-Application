{
 "cells": [
  {
   "cell_type": "code",
   "execution_count": 5,
   "metadata": {},
   "outputs": [],
   "source": [
    "import turtle\n",
    "\n",
    "# Thiết lập cửa sổ vẽ\n",
    "wn = turtle.Screen()\n",
    "wn.title(\"Vẽ hình ellipse\")\n",
    "\n",
    "# Tạo một con rùa\n",
    "ellipse_turtle = turtle.Turtle()\n",
    "\n",
    "# Thiết lập bán kính\n",
    "r = 100\n",
    "\n",
    "# Bắt đầu vòng lặp while\n",
    "count = 0\n",
    "while count < 2:\n",
    "    # Vẽ cung đường tròn 90 độ với bán kính r\n",
    "    ellipse_turtle.circle(r, 90)\n",
    "    \n",
    "    # Vẽ cung đường tròn 90 độ với bán kính r/2\n",
    "    ellipse_turtle.circle(r/2, 90)\n",
    "    \n",
    "    count += 1\n",
    "\n",
    "# Kết thúc vẽ\n",
    "turtle.done()"
   ]
  },
  {
   "cell_type": "code",
   "execution_count": 9,
   "metadata": {},
   "outputs": [],
   "source": [
    "import turtle\n",
    "import random\n",
    "\n",
    "# Thiết lập cửa sổ vẽ\n",
    "wn = turtle.Screen()\n",
    "wn.title(\"Vẽ nhiều hình ellipse\")\n",
    "\n",
    "# Tạo một con rùa\n",
    "ellipse_turtle = turtle.Turtle()\n",
    "\n",
    "# Thiết lập bán kính\n",
    "r = 100\n",
    "\n",
    "# Hàm vẽ hình ellipse\n",
    "def draw_ellipse(turtle, r):\n",
    "    count = 0\n",
    "    while count < 2:\n",
    "        turtle.circle(r, 90)\n",
    "        turtle.circle(r/2, 90)\n",
    "        count += 1\n",
    "\n",
    "# Thiết lập số lần lặp\n",
    "num_ellipses = 30\n",
    "angle_change = 15\n",
    "\n",
    "# Bắt đầu vòng lặp while\n",
    "count = 0\n",
    "while count < num_ellipses:\n",
    "    # Thiết lập màu ngẫu nhiên cho bút vẽ\n",
    "    ellipse_turtle.pencolor(random.random(), random.random(), random.random())\n",
    "    \n",
    "    # Vẽ hình ellipse\n",
    "    draw_ellipse(ellipse_turtle, r)\n",
    "    \n",
    "    # Thay đổi góc quay của hình ellipse\n",
    "    ellipse_turtle.right(angle_change)\n",
    "    \n",
    "    count += 1\n",
    "\n",
    "# Kết thúc vẽ\n",
    "turtle.done()"
   ]
  }
 ],
 "metadata": {
  "kernelspec": {
   "display_name": "Python 3",
   "language": "python",
   "name": "python3"
  },
  "language_info": {
   "codemirror_mode": {
    "name": "ipython",
    "version": 3
   },
   "file_extension": ".py",
   "mimetype": "text/x-python",
   "name": "python",
   "nbconvert_exporter": "python",
   "pygments_lexer": "ipython3",
   "version": "3.12.3"
  }
 },
 "nbformat": 4,
 "nbformat_minor": 2
}
