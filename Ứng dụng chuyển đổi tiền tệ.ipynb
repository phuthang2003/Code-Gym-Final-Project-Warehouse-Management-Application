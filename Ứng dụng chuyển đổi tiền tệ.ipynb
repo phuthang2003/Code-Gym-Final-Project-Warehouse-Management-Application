{
 "cells": [
  {
   "cell_type": "code",
   "execution_count": 3,
   "metadata": {},
   "outputs": [
    {
     "name": "stdout",
     "output_type": "stream",
     "text": [
      "Số tiền VND cần là: 2500000.0\n"
     ]
    }
   ],
   "source": [
    "usd_amount = float(input(\"Nhập số tiền USD cần đổi: \"))\n",
    "ratio = 25000\n",
    "vnd_amount = usd_amount * ratio\n",
    "print(f\"Số tiền VND cần là: {vnd_amount}\")"
   ]
  }
 ],
 "metadata": {
  "kernelspec": {
   "display_name": "Python 3",
   "language": "python",
   "name": "python3"
  },
  "language_info": {
   "codemirror_mode": {
    "name": "ipython",
    "version": 3
   },
   "file_extension": ".py",
   "mimetype": "text/x-python",
   "name": "python",
   "nbconvert_exporter": "python",
   "pygments_lexer": "ipython3",
   "version": "3.12.3"
  }
 },
 "nbformat": 4,
 "nbformat_minor": 2
}
