{
 "cells": [
  {
   "cell_type": "code",
   "execution_count": 78,
   "id": "1b020c22-056c-40f3-a355-8f590fc9ceaa",
   "metadata": {},
   "outputs": [],
   "source": [
    "import turtle"
   ]
  },
  {
   "cell_type": "code",
   "execution_count": 79,
   "id": "4e68899f-7e3b-4631-be5f-c2e1360677c1",
   "metadata": {},
   "outputs": [],
   "source": [
    "t = turtle.Turtle()"
   ]
  },
  {
   "cell_type": "code",
   "execution_count": 80,
   "id": "2bc7a979-deb4-4f9d-9c06-265ba3323363",
   "metadata": {},
   "outputs": [],
   "source": [
    "turtle.bgcolor(\"Blue\")"
   ]
  },
  {
   "cell_type": "code",
   "execution_count": 81,
   "id": "0a6d149c-6d83-45c8-9720-889026b4f29b",
   "metadata": {},
   "outputs": [],
   "source": [
    "# Vẽ ngôi nhà mặt trước\n",
    "#đặt kích thước viền là 5\n",
    "t.pensize (5)\n",
    " \n",
    "#đặt màu sắc cho viền hình tròn là màu đỏ\n",
    "t.pencolor (\"Black\")\n",
    "\n",
    "#đặt màu nền cho hình tròn là màu xanh\n",
    "t.fillcolor (\"Red\")\n",
    "t.begin_fill()\n",
    "\n",
    "# Mặt trước\n",
    "m = 100;\n",
    "n = 150;\n",
    " \n",
    "# vẽ cạnh đầu tiên\n",
    "t.forward(m) # đi thẳng với m đơn vị\n",
    "t.left(90)   # quay một góc 90 độ\n",
    " \n",
    "# vẽ cạnh thứ hai\n",
    "t.forward(n) # đi thẳng với n đơn vị\n",
    "t.left(90)   # quay một góc 90 độ\n",
    " \n",
    "# vẽ cạnh thứ ba\n",
    "t.forward(m) # đi thẳng với m đơn vị\n",
    "t.left(90)   # quay một góc 90 độ\n",
    " \n",
    "# vẽ cạnh thứ tư\n",
    "t.forward(n) # đi thẳng với n đơn vị\n",
    "t.left(90)   # quay một góc 90 độ\n",
    "\n",
    "t.end_fill()\n"
   ]
  },
  {
   "cell_type": "code",
   "execution_count": 82,
   "id": "812c64ea-e913-49cf-a320-88da7af05c11",
   "metadata": {},
   "outputs": [],
   "source": [
    "t.goto(100,0)"
   ]
  },
  {
   "cell_type": "code",
   "execution_count": 83,
   "id": "66ec4eae-2771-4640-8a5c-8512c423d4d6",
   "metadata": {},
   "outputs": [],
   "source": [
    "# Vẽ ngôi nhà mặt bên\n",
    "#đặt kích thước viền là 5\n",
    "t.pensize (5)\n",
    " \n",
    "#đặt màu sắc cho viền hình tròn là màu đỏ\n",
    "t.pencolor (\"Black\")\n",
    "\n",
    "#đặt màu nền cho hình tròn là màu xanh\n",
    "t.fillcolor (\"Red\")\n",
    "t.begin_fill()\n",
    "\n",
    "# Mặt bên\n",
    "m = 80;\n",
    "n = 150;\n",
    " \n",
    "# vẽ cạnh đầu tiên\n",
    "t.left(45) # quay một góc 45 độ\n",
    "t.forward(m) # đi thẳng với m đơn vị\n",
    "   \n",
    "# vẽ cạnh thứ hai\n",
    "t.left(45) # quay một góc 45 độ\n",
    "t.forward(n) # đi thẳng với m đơn vị\n",
    " \n",
    "# vẽ cạnh thứ ba\n",
    "t.left(135) # quay một góc 45 độ\n",
    "t.forward(m) # đi thẳng với m đơn vị\n",
    "\n",
    "t.end_fill()\n"
   ]
  },
  {
   "cell_type": "code",
   "execution_count": 84,
   "id": "c9903cbe-cb7b-4ac4-a65a-4bc4e809d66a",
   "metadata": {},
   "outputs": [],
   "source": [
    "#đặt kích thước viền là 5\n",
    "t.pensize (5)\n",
    " \n",
    "#đặt màu sắc cho viền hình tròn là màu đỏ\n",
    "t.pencolor (\"Black\")\n",
    "\n",
    "#đặt màu nền cho hình tròn là màu xanh\n",
    "t.fillcolor (\"Yellow\")\n",
    "t.begin_fill()\n",
    "\n",
    "# Mặt bên\n",
    "m = 100;\n",
    " \n",
    "# vẽ cạnh đầu tiên\n",
    "t.right(45) # quay một góc 45 độ\n",
    "t.forward(m) # đi thẳng với m đơn vị\n",
    "   \n",
    "# vẽ cạnh thứ hai\n",
    "t.right(120) # quay một góc 45 độ\n",
    "t.forward(m) # đi thẳng với m đơn vị\n",
    " \n",
    "# vẽ cạnh thứ ba\n",
    "t.right(120) # quay một góc 45 độ\n",
    "t.forward(m) # đi thẳng với m đơn vị\n",
    "\n",
    "t.end_fill()"
   ]
  },
  {
   "cell_type": "code",
   "execution_count": 85,
   "id": "5818b7b1-7cf3-40fb-9814-ff5415ed262e",
   "metadata": {},
   "outputs": [],
   "source": [
    "#đặt kích thước viền là 5\n",
    "t.pensize (5)\n",
    " \n",
    "#đặt màu sắc cho viền hình tròn là màu đỏ\n",
    "t.pencolor (\"Black\")\n",
    "\n",
    "#đặt màu nền cho hình tròn là màu xanh\n",
    "t.fillcolor (\"Green\")\n",
    "t.begin_fill()\n",
    "\n",
    "# Mặt bên\n",
    "m = 100;\n",
    "n = 80;\n",
    " \n",
    "# vẽ cạnh đầu tiên\n",
    "t.left(105) # quay một góc 45 độ\n",
    "t.forward(n) # đi thẳng với m đơn vị\n",
    "   \n",
    "# vẽ cạnh thứ hai\n",
    "t.left(75) # quay một góc 45 độ\n",
    "t.forward(m) # đi thẳng với m đơn vị\n",
    " \n",
    "# vẽ cạnh thứ ba\n",
    "t.left(105) # quay một góc 45 độ\n",
    "t.forward(n) # đi thẳng với m đơn vị\n",
    "\n",
    "t.end_fill()"
   ]
  },
  {
   "cell_type": "code",
   "execution_count": 86,
   "id": "3eddd6f9-ad1a-4e95-8355-f44ebeb930eb",
   "metadata": {},
   "outputs": [],
   "source": [
    "t.goto(200,200)"
   ]
  }
 ],
 "metadata": {
  "kernelspec": {
   "display_name": "Python 3 (ipykernel)",
   "language": "python",
   "name": "python3"
  },
  "language_info": {
   "codemirror_mode": {
    "name": "ipython",
    "version": 3
   },
   "file_extension": ".py",
   "mimetype": "text/x-python",
   "name": "python",
   "nbconvert_exporter": "python",
   "pygments_lexer": "ipython3",
   "version": "3.12.3"
  }
 },
 "nbformat": 4,
 "nbformat_minor": 5
}
