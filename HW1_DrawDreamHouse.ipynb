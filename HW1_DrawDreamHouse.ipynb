{
 "cells": [
  {
   "cell_type": "code",
   "execution_count": 141,
   "id": "1b020c22-056c-40f3-a355-8f590fc9ceaa",
   "metadata": {},
   "outputs": [],
   "source": [
    "import turtle"
   ]
  },
  {
   "cell_type": "code",
   "execution_count": 142,
   "id": "4e68899f-7e3b-4631-be5f-c2e1360677c1",
   "metadata": {},
   "outputs": [],
   "source": [
    "t = turtle.Turtle()"
   ]
  },
  {
   "cell_type": "code",
   "execution_count": 143,
   "id": "2bc7a979-deb4-4f9d-9c06-265ba3323363",
   "metadata": {},
   "outputs": [],
   "source": [
    "turtle.bgcolor(\"Blue\")"
   ]
  },
  {
   "cell_type": "code",
   "execution_count": 144,
   "id": "0a6d149c-6d83-45c8-9720-889026b4f29b",
   "metadata": {},
   "outputs": [],
   "source": [
    "# Vẽ ngôi nhà mặt trước\n",
    "#đặt kích thước viền là 5\n",
    "t.pensize (5)\n",
    " \n",
    "#đặt màu sắc cho viền hình tròn là màu đỏ\n",
    "t.pencolor (\"Black\")\n",
    "\n",
    "#đặt màu nền cho hình tròn là màu xanh\n",
    "t.fillcolor (\"Red\")\n",
    "t.begin_fill()\n",
    "\n",
    "# Mặt trước\n",
    "m = 100;\n",
    "n = 150;\n",
    " \n",
    "# vẽ cạnh đầu tiên\n",
    "t.forward(m) # đi thẳng với m đơn vị\n",
    "t.left(90)   # quay một góc 90 độ\n",
    " \n",
    "# vẽ cạnh thứ hai\n",
    "t.forward(n) # đi thẳng với n đơn vị\n",
    "t.left(90)   # quay một góc 90 độ\n",
    " \n",
    "# vẽ cạnh thứ ba\n",
    "t.forward(m) # đi thẳng với m đơn vị\n",
    "t.left(90)   # quay một góc 90 độ\n",
    " \n",
    "# vẽ cạnh thứ tư\n",
    "t.forward(n) # đi thẳng với n đơn vị\n",
    "t.left(90)   # quay một góc 90 độ\n",
    "\n",
    "t.end_fill()\n"
   ]
  },
  {
   "cell_type": "code",
   "execution_count": 145,
   "id": "812c64ea-e913-49cf-a320-88da7af05c11",
   "metadata": {},
   "outputs": [],
   "source": [
    "t.goto(100,0)"
   ]
  },
  {
   "cell_type": "code",
   "execution_count": 146,
   "id": "66ec4eae-2771-4640-8a5c-8512c423d4d6",
   "metadata": {},
   "outputs": [],
   "source": [
    "# Vẽ ngôi nhà mặt bên\n",
    "#đặt kích thước viền là 5\n",
    "t.pensize (5)\n",
    " \n",
    "#đặt màu sắc cho viền hình tròn là màu đỏ\n",
    "t.pencolor (\"Black\")\n",
    "\n",
    "#đặt màu nền cho hình tròn là màu xanh\n",
    "t.fillcolor (\"Red\")\n",
    "t.begin_fill()\n",
    "\n",
    "# Mặt bên\n",
    "m = 80;\n",
    "n = 150;\n",
    " \n",
    "# vẽ cạnh đầu tiên\n",
    "t.left(45) # quay một góc 45 độ\n",
    "t.forward(m) # đi thẳng với m đơn vị\n",
    "   \n",
    "# vẽ cạnh thứ hai\n",
    "t.left(45) # quay một góc 45 độ\n",
    "t.forward(n) # đi thẳng với m đơn vị\n",
    " \n",
    "# vẽ cạnh thứ ba\n",
    "t.left(135) # quay một góc 45 độ\n",
    "t.forward(m) # đi thẳng với m đơn vị\n",
    "\n",
    "t.end_fill()\n"
   ]
  },
  {
   "cell_type": "code",
   "execution_count": 147,
   "id": "c9903cbe-cb7b-4ac4-a65a-4bc4e809d66a",
   "metadata": {},
   "outputs": [],
   "source": [
    "#đặt kích thước viền là 5\n",
    "t.pensize (5)\n",
    " \n",
    "#đặt màu sắc cho viền hình tròn là màu đỏ\n",
    "t.pencolor (\"Black\")\n",
    "\n",
    "#đặt màu nền cho hình tròn là màu xanh\n",
    "t.fillcolor (\"Yellow\")\n",
    "t.begin_fill()\n",
    "\n",
    "# Mặt bên\n",
    "m = 100;\n",
    " \n",
    "# vẽ cạnh đầu tiên\n",
    "t.right(45) # quay một góc 45 độ\n",
    "t.forward(m) # đi thẳng với m đơn vị\n",
    "   \n",
    "# vẽ cạnh thứ hai\n",
    "t.right(120) # quay một góc 45 độ\n",
    "t.forward(m) # đi thẳng với m đơn vị\n",
    " \n",
    "# vẽ cạnh thứ ba\n",
    "t.right(120) # quay một góc 45 độ\n",
    "t.forward(m) # đi thẳng với m đơn vị\n",
    "\n",
    "t.end_fill()"
   ]
  },
  {
   "cell_type": "code",
   "execution_count": 148,
   "id": "5818b7b1-7cf3-40fb-9814-ff5415ed262e",
   "metadata": {},
   "outputs": [],
   "source": [
    "#đặt kích thước viền là 5\n",
    "t.pensize (5)\n",
    " \n",
    "#đặt màu sắc cho viền hình tròn là màu đỏ\n",
    "t.pencolor (\"Black\")\n",
    "\n",
    "#đặt màu nền cho hình tròn là màu xanh\n",
    "t.fillcolor (\"Green\")\n",
    "t.begin_fill()\n",
    "\n",
    "# Mặt bên\n",
    "m = 100;\n",
    "n = 80;\n",
    " \n",
    "# vẽ cạnh đầu tiên\n",
    "t.left(105) # quay một góc 45 độ\n",
    "t.forward(n) # đi thẳng với m đơn vị\n",
    "   \n",
    "# vẽ cạnh thứ hai\n",
    "t.left(75) # quay một góc 45 độ\n",
    "t.forward(m) # đi thẳng với m đơn vị\n",
    " \n",
    "# vẽ cạnh thứ ba\n",
    "t.left(105) # quay một góc 45 độ\n",
    "t.forward(n) # đi thẳng với m đơn vị\n",
    "\n",
    "t.end_fill()"
   ]
  },
  {
   "cell_type": "code",
   "execution_count": 149,
   "id": "ea8096dc-b646-40b3-97ae-e3abb6cc9513",
   "metadata": {},
   "outputs": [],
   "source": [
    "t.up()"
   ]
  },
  {
   "cell_type": "code",
   "execution_count": 150,
   "id": "c4b0ed4b-cc37-4db3-b824-2ad8b9d4267d",
   "metadata": {},
   "outputs": [],
   "source": [
    "t.goto(300, 300)"
   ]
  },
  {
   "cell_type": "code",
   "execution_count": 151,
   "id": "4d4d6cc1-3042-41a1-af35-6a3d6d592b56",
   "metadata": {},
   "outputs": [],
   "source": [
    "t.down()"
   ]
  },
  {
   "cell_type": "code",
   "execution_count": 152,
   "id": "0e104ae3-52e4-4b61-90b8-9c1dfff380a0",
   "metadata": {},
   "outputs": [
    {
     "ename": "AttributeError",
     "evalue": "'Turtle' object has no attribute 'done'",
     "output_type": "error",
     "traceback": [
      "\u001b[1;31m---------------------------------------------------------------------------\u001b[0m",
      "\u001b[1;31mAttributeError\u001b[0m                            Traceback (most recent call last)",
      "Cell \u001b[1;32mIn[152], line 15\u001b[0m\n\u001b[0;32m     13\u001b[0m t\u001b[38;5;241m.\u001b[39mcircle (\u001b[38;5;241m100\u001b[39m)\n\u001b[0;32m     14\u001b[0m t\u001b[38;5;241m.\u001b[39mend_fill()\n\u001b[1;32m---> 15\u001b[0m \u001b[43mt\u001b[49m\u001b[38;5;241;43m.\u001b[39;49m\u001b[43mdone\u001b[49m\n",
      "\u001b[1;31mAttributeError\u001b[0m: 'Turtle' object has no attribute 'done'"
     ]
    }
   ],
   "source": [
    "#đặt kích thước viền cho hình tròn là 5\n",
    "t.pensize (5)\n",
    "\n",
    "#đặt màu sắc cho viền hình tròn là màu xanh\n",
    "t.pencolor (\"yellow\")\n",
    "\n",
    "#for outer bigger circle\n",
    "#đặt màu nền cho hình tròn là màu đỏ\n",
    "t.fillcolor (\"orange\")\n",
    "t.begin_fill()\n",
    "\n",
    "#đặt bán kính của hình tròn là 150\n",
    "t.circle (100)\n",
    "t.end_fill()"
   ]
  },
  {
   "cell_type": "code",
   "execution_count": null,
   "id": "a1049256-055b-4012-8a5a-30ac7c0fd0da",
   "metadata": {},
   "outputs": [],
   "source": []
  }
 ],
 "metadata": {
  "kernelspec": {
   "display_name": "Python 3 (ipykernel)",
   "language": "python",
   "name": "python3"
  },
  "language_info": {
   "codemirror_mode": {
    "name": "ipython",
    "version": 3
   },
   "file_extension": ".py",
   "mimetype": "text/x-python",
   "name": "python",
   "nbconvert_exporter": "python",
   "pygments_lexer": "ipython3",
   "version": "3.12.3"
  }
 },
 "nbformat": 4,
 "nbformat_minor": 5
}
