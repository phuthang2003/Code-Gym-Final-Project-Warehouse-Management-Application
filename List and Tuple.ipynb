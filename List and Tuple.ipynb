{
 "cells": [
  {
   "cell_type": "markdown",
   "metadata": {},
   "source": [
    "## Review: type()"
   ]
  },
  {
   "cell_type": "code",
   "execution_count": null,
   "metadata": {},
   "outputs": [],
   "source": [
    "# Python có 4 kiểu dữ liệu cơ bản\n",
    "#string\n",
    "#integer\n",
    "#float\n",
    "#boolean"
   ]
  },
  {
   "cell_type": "markdown",
   "metadata": {},
   "source": [
    "## list là gì?"
   ]
  },
  {
   "cell_type": "code",
   "execution_count": null,
   "metadata": {},
   "outputs": [],
   "source": [
    "# Ví dụ\n",
    "diem_van = [5, 6 , 7]\n",
    "tong_hop = [5, \"Alo\", 3.2, [1, 3, 5]]"
   ]
  },
  {
   "cell_type": "code",
   "execution_count": 1,
   "metadata": {},
   "outputs": [
    {
     "name": "stdout",
     "output_type": "stream",
     "text": [
      "<class 'list'>\n"
     ]
    }
   ],
   "source": [
    "# Sử dụng list\n",
    "diem_anh = [10, 8 , 9]\n",
    "\n",
    "print(type(diem_anh))"
   ]
  },
  {
   "cell_type": "code",
   "execution_count": 4,
   "metadata": {},
   "outputs": [
    {
     "name": "stdout",
     "output_type": "stream",
     "text": [
      "[5, 6.5, 7]\n"
     ]
    }
   ],
   "source": [
    "diem_van = [5, 6 , 7]\n",
    "diem_van[1] = 6.5\n",
    "print(diem_van)"
   ]
  },
  {
   "cell_type": "code",
   "execution_count": 7,
   "metadata": {},
   "outputs": [
    {
     "name": "stdout",
     "output_type": "stream",
     "text": [
      "6.5\n",
      "6.5\n",
      "[5, 6.5, 7]\n"
     ]
    }
   ],
   "source": [
    "#Truy cập phần tử theo cơ chế thông thường\n",
    "print(diem_van[1])\n",
    "\n",
    "#Truy cập phần từ theo cơ chế reversed indexing\n",
    "print(diem_van[-2])\n",
    "\n",
    "print(diem_van)"
   ]
  },
  {
   "cell_type": "markdown",
   "metadata": {},
   "source": [
    "### Thực hành: Viết chương trình tạo ra một list các string khác nhau và đếm tổng số lượng string dài hơn 3 kí tự"
   ]
  },
  {
   "cell_type": "code",
   "execution_count": null,
   "metadata": {},
   "outputs": [],
   "source": []
  },
  {
   "cell_type": "markdown",
   "metadata": {},
   "source": [
    "### Thực hành 2: Viết chương trình nhận vào 2 list và trả về True nếu 2 list có ít nhất 1 phần tử chung, ngược lại trả về False"
   ]
  },
  {
   "cell_type": "code",
   "execution_count": null,
   "metadata": {},
   "outputs": [],
   "source": []
  },
  {
   "cell_type": "markdown",
   "metadata": {},
   "source": [
    "## Các thao tác cơ bản với list"
   ]
  },
  {
   "cell_type": "markdown",
   "metadata": {},
   "source": [
    "### Kiểm tra độ dài list"
   ]
  },
  {
   "cell_type": "code",
   "execution_count": 8,
   "metadata": {},
   "outputs": [
    {
     "data": {
      "text/plain": [
       "5"
      ]
     },
     "execution_count": 8,
     "metadata": {},
     "output_type": "execute_result"
    }
   ],
   "source": [
    "numbers = [0, 1, 3, 4, 5]\n",
    "len(numbers)"
   ]
  },
  {
   "cell_type": "markdown",
   "metadata": {},
   "source": [
    "### Truy cập phần tử trên list"
   ]
  },
  {
   "cell_type": "code",
   "execution_count": 9,
   "metadata": {},
   "outputs": [
    {
     "name": "stdout",
     "output_type": "stream",
     "text": [
      "[0, 1, 3, 4, 5]\n",
      "3\n",
      "[0, 100, 3, 4, 5]\n"
     ]
    }
   ],
   "source": [
    "numbers = [0, 1, 3, 4, 5]\n",
    "print(numbers)\n",
    "print(numbers[2]) #indexing\n",
    "\n",
    "#item assignment\n",
    "numbers[-4] = 100 #reversed indexing\n",
    "print(numbers)"
   ]
  },
  {
   "cell_type": "markdown",
   "metadata": {},
   "source": [
    "### Cắt List"
   ]
  },
  {
   "cell_type": "code",
   "execution_count": 11,
   "metadata": {},
   "outputs": [
    {
     "name": "stdout",
     "output_type": "stream",
     "text": [
      "0\n",
      "2\n",
      "4\n"
     ]
    }
   ],
   "source": [
    "numbers = [0, 1, 2, 3, 4, 5]\n",
    "for i in range(0, 5, 2):\n",
    "    print(numbers[i])"
   ]
  },
  {
   "cell_type": "code",
   "execution_count": 16,
   "metadata": {},
   "outputs": [
    {
     "data": {
      "text/plain": [
       "[0, 2, 4]"
      ]
     },
     "execution_count": 16,
     "metadata": {},
     "output_type": "execute_result"
    }
   ],
   "source": [
    "numbers[0:5:2]\n",
    "numbers[:5:2]"
   ]
  },
  {
   "cell_type": "code",
   "execution_count": 15,
   "metadata": {},
   "outputs": [
    {
     "data": {
      "text/plain": [
       "[1, 3, 5]"
      ]
     },
     "execution_count": 15,
     "metadata": {},
     "output_type": "execute_result"
    }
   ],
   "source": [
    "numbers[1:6:2]\n",
    "numbers[1::2]"
   ]
  },
  {
   "cell_type": "code",
   "execution_count": 32,
   "metadata": {},
   "outputs": [
    {
     "data": {
      "text/plain": [
       "[5, 4, 3, 2, 1, 0]"
      ]
     },
     "execution_count": 32,
     "metadata": {},
     "output_type": "execute_result"
    }
   ],
   "source": [
    "numbers[::-1] #Đảo ngược list"
   ]
  },
  {
   "cell_type": "markdown",
   "metadata": {},
   "source": [
    "### Duyệt list"
   ]
  },
  {
   "cell_type": "code",
   "execution_count": 26,
   "metadata": {},
   "outputs": [
    {
     "name": "stdout",
     "output_type": "stream",
     "text": [
      "Monday\n",
      "Tuesday\n",
      "Wednesday\n",
      "Thursday\n",
      "Friday\n",
      "Saturday\n",
      "Sunday\n",
      "--------------------\n",
      "Monday\n",
      "Tuesday\n",
      "Wednesday\n",
      "Thursday\n",
      "Friday\n",
      "Saturday\n",
      "Sunday\n"
     ]
    }
   ],
   "source": [
    "weekdays = ['Monday', 'Tuesday', 'Wednesday', 'Thursday', 'Friday', 'Saturday', 'Sunday']\n",
    "for i in range(len(weekdays)):\n",
    "    print(weekdays[i])\n",
    "\n",
    "print('-' * 20)\n",
    "\n",
    "#Duyệt phần tử theo giá trị\n",
    "for day in weekdays:\n",
    "    print(day)"
   ]
  },
  {
   "cell_type": "markdown",
   "metadata": {},
   "source": [
    "### Thực hành: Tạo một list 10 số tự nhiên và in ra các phần tử trong list"
   ]
  },
  {
   "cell_type": "code",
   "execution_count": 34,
   "metadata": {},
   "outputs": [
    {
     "name": "stdout",
     "output_type": "stream",
     "text": [
      "0\n",
      "1\n",
      "2\n",
      "3\n",
      "4\n",
      "5\n",
      "6\n",
      "7\n",
      "8\n",
      "9\n",
      "--------------------\n",
      "0\n",
      "1\n",
      "2\n",
      "3\n",
      "4\n",
      "5\n",
      "6\n",
      "7\n",
      "8\n",
      "9\n"
     ]
    }
   ],
   "source": [
    "numbers = [0, 1, 2, 3, 4, 5, 6, 7, 8, 9]\n",
    "\n",
    "#duyệt theo index\n",
    "for i in range(10):\n",
    "    print(numbers[i])\n",
    "\n",
    "print('-' * 20)\n",
    "\n",
    "for num in numbers:\n",
    "    print(num)"
   ]
  },
  {
   "cell_type": "markdown",
   "metadata": {},
   "source": [
    "### Thực hành 2: Tạo ra một list con chưa 2 phần tử cuối cùng từ list đã tạo ở trên"
   ]
  },
  {
   "cell_type": "code",
   "execution_count": 35,
   "metadata": {},
   "outputs": [
    {
     "name": "stdout",
     "output_type": "stream",
     "text": [
      "[8, 9]\n"
     ]
    },
    {
     "ename": "",
     "evalue": "",
     "output_type": "error",
     "traceback": [
      "\u001b[1;31mThe Kernel crashed while executing code in the current cell or a previous cell. \n",
      "\u001b[1;31mPlease review the code in the cell(s) to identify a possible cause of the failure. \n",
      "\u001b[1;31mClick <a href='https://aka.ms/vscodeJupyterKernelCrash'>here</a> for more info. \n",
      "\u001b[1;31mView Jupyter <a href='command:jupyter.viewOutput'>log</a> for further details."
     ]
    }
   ],
   "source": [
    "new_list = numbers[-2:]\n",
    "print(new_list)"
   ]
  },
  {
   "cell_type": "markdown",
   "metadata": {},
   "source": [
    "### Cộng list"
   ]
  },
  {
   "cell_type": "code",
   "execution_count": 2,
   "metadata": {},
   "outputs": [
    {
     "name": "stdout",
     "output_type": "stream",
     "text": [
      "[1, 2, 3, 4, 5, 6, 3]\n",
      "[1, 2, 3, 1, 2, 3, 1, 2, 3]\n"
     ]
    }
   ],
   "source": [
    "a = [1, 2, 3]\n",
    "b = [4, 5, 6, 3]\n",
    "c = a + b\n",
    "print(c)\n",
    "\n",
    "d = a * 3\n",
    "print(d)"
   ]
  },
  {
   "cell_type": "markdown",
   "metadata": {},
   "source": [
    "### Thực hành: Thêm học sinh vào lớp"
   ]
  },
  {
   "cell_type": "code",
   "execution_count": 12,
   "metadata": {},
   "outputs": [
    {
     "name": "stdout",
     "output_type": "stream",
     "text": [
      "['Andy', 'Bella', 'Cindy', 'Daniel', 'Eric', 'Frank']\n",
      "['Andy', 'Bella', 'Cindy', 'Daniel', 'Eric']\n",
      "Học sinh chuyển lớp: Frank\n",
      "['Andy', 'Bella', 'Cindy', 'Daniel']\n"
     ]
    }
   ],
   "source": [
    "# Tạo một list danh_sach_lop chứa tên 4 học sinh khác nhau\n",
    "danh_sanh_lop = ['Andy', 'Bella', 'Cindy', 'Daniel']\n",
    "\n",
    "# Tạo thêm một list hoc_sinh_moi chứa tên của 2 học sinh mới vào lớp\n",
    "hoc_sinh_moi = ['Eric', 'Frank']\n",
    "\n",
    "# # Thêm học sinh mới vào lớp\n",
    "# # Cách 1\n",
    "# danh_sanh_lop += hoc_sinh_moi\n",
    "# print(danh_sanh_lop)\n",
    "\n",
    "# # Cách 2\n",
    "# danh_sanh_lop.append(hoc_sinh_moi)\n",
    "# print(danh_sanh_lop)\n",
    "\n",
    "# Cách 3\n",
    "danh_sanh_lop.extend(hoc_sinh_moi)\n",
    "print(danh_sanh_lop)\n",
    "\n",
    "\n",
    "#------------------------------\n",
    "\n",
    "\n",
    "# Xóa học sinh khỏi danh sách lớp\n",
    "# Cách 1\n",
    "hoc_sinh_chuyen_lop = danh_sanh_lop.pop() # Xóa phần tử cuối cùng trong list và return về phẩn tử đã bị xóa\n",
    "print(danh_sanh_lop)\n",
    "print(f\"Học sinh chuyển lớp: {hoc_sinh_chuyen_lop}\")\n",
    "\n",
    "# Cách 2\n",
    "danh_sanh_lop = danh_sanh_lop[:-1]\n",
    "print(danh_sanh_lop)"
   ]
  },
  {
   "cell_type": "markdown",
   "metadata": {},
   "source": [
    "### Kiểm tra phần tử tồn tại trong list"
   ]
  },
  {
   "cell_type": "code",
   "execution_count": 13,
   "metadata": {},
   "outputs": [
    {
     "name": "stdout",
     "output_type": "stream",
     "text": [
      "False\n"
     ]
    }
   ],
   "source": [
    "danh_sanh_lop = ['Andy', 'Bella', 'Cindy', 'Daniel']\n",
    "print('Anne' in danh_sanh_lop)"
   ]
  },
  {
   "cell_type": "markdown",
   "metadata": {},
   "source": [
    "### Xóa phần tử khỏi list"
   ]
  },
  {
   "cell_type": "code",
   "execution_count": 17,
   "metadata": {},
   "outputs": [
    {
     "name": "stdout",
     "output_type": "stream",
     "text": [
      "[1, 2, 1]\n",
      "[2, 3, 1]\n"
     ]
    }
   ],
   "source": [
    "# Cách 1: pop\n",
    "\n",
    "# Cách 2: slicing list\n",
    "\n",
    "# Cách 3: remove()\n",
    "a = [1, 2, 3, 1]\n",
    "a.remove(3)\n",
    "print(a)\n",
    "\n",
    "# Cách 4: del\n",
    "a = [1, 2, 3, 1]\n",
    "del a[0]\n",
    "print(a)"
   ]
  },
  {
   "cell_type": "markdown",
   "metadata": {},
   "source": [
    "### Sắp xếp list"
   ]
  },
  {
   "cell_type": "code",
   "execution_count": 27,
   "metadata": {},
   "outputs": [
    {
     "name": "stdout",
     "output_type": "stream",
     "text": [
      "Giảm dần: [231, 56, 31, 22, 20, 1]\n",
      "Tăng dần: [1, 20, 22, 31, 56, 231]\n"
     ]
    }
   ],
   "source": [
    "numbers = [20, 31, 22, 56, 1, 231]\n",
    "\n",
    "# Cách 1: sort()\n",
    "numbers.sort(reverse=True)\n",
    "print(f\"Giảm dần: {numbers}\")\n",
    "\n",
    "numbers.sort()\n",
    "print(f\"Tăng dần: {numbers}\")"
   ]
  },
  {
   "cell_type": "code",
   "execution_count": 29,
   "metadata": {},
   "outputs": [
    {
     "name": "stdout",
     "output_type": "stream",
     "text": [
      "List before sort: [20, 31, 22, 56, 1, 231]\n",
      "List after sort: [20, 31, 22, 56, 1, 231]\n",
      "Sorted List: [231, 56, 31, 22, 20, 1]\n"
     ]
    }
   ],
   "source": [
    "numbers = [20, 31, 22, 56, 1, 231]\n",
    "print(f\"List before sort: {numbers}\")\n",
    "\n",
    "# Cách 2: sorted -> Sắp xếp nhưng không làm thay đổi thứ tự của danh sách hiện tại, có return kết quả\n",
    "sorted_number = sorted(numbers, reverse=True)\n",
    "print(f\"List after sort: {numbers}\")\n",
    "print(f\"Sorted List: {sorted_number}\")\n"
   ]
  },
  {
   "cell_type": "markdown",
   "metadata": {},
   "source": [
    "### Làm rỗng list"
   ]
  },
  {
   "cell_type": "code",
   "execution_count": 30,
   "metadata": {},
   "outputs": [
    {
     "name": "stdout",
     "output_type": "stream",
     "text": [
      "[]\n"
     ]
    }
   ],
   "source": [
    "a = [1, 2, 3]\n",
    "\n",
    "a.clear()\n",
    "print(a)"
   ]
  },
  {
   "cell_type": "markdown",
   "metadata": {},
   "source": [
    "### Copy list"
   ]
  },
  {
   "attachments": {
    "image.png": {
     "image/png": "[encoded data removed]"
    }
   },
   "cell_type": "markdown",
   "metadata": {},
   "source": [
    "![image.png](attachment:image.png)"
   ]
  },
  {
   "cell_type": "markdown",
   "metadata": {},
   "source": [
    "# Tuple"
   ]
  },
  {
   "cell_type": "code",
   "execution_count": 33,
   "metadata": {},
   "outputs": [
    {
     "name": "stdout",
     "output_type": "stream",
     "text": [
      "Python Fundamental\n",
      "3-5-7\n",
      "3\n",
      "Python Fundamental\n",
      "3\n",
      "3-5-7\n"
     ]
    }
   ],
   "source": [
    "course_info = (\"Python Fundamental\", \"3-5-7\", 3)\n",
    "for i in range(len(course_info)):\n",
    "    print(course_info[i])\n",
    "\n",
    "# course_info[0] = \"Javascript Fundamental\" --> Error\n",
    "\n",
    "\n",
    "course_name, day, duration = course_info\n",
    "\n",
    "print(course_name)\n",
    "print(duration)\n",
    "print(day)\n"
   ]
  }
 ],
 "metadata": {
  "kernelspec": {
   "display_name": "Python 3",
   "language": "python",
   "name": "python3"
  },
  "language_info": {
   "codemirror_mode": {
    "name": "ipython",
    "version": 3
   },
   "file_extension": ".py",
   "mimetype": "text/x-python",
   "name": "python",
   "nbconvert_exporter": "python",
   "pygments_lexer": "ipython3",
   "version": "3.12.3"
  }
 },
 "nbformat": 4,
 "nbformat_minor": 4
}
