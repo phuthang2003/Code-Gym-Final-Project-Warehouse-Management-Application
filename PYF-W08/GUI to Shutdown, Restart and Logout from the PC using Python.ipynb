{
 "cells": [
  {
   "cell_type": "code",
   "execution_count": 5,
   "metadata": {},
   "outputs": [],
   "source": [
    "# import modules\n",
    "from tkinter import *\n",
    "import os\n",
    "  \n",
    "# user define funtion\n",
    "def shutdown():\n",
    "    return os.system(\"shutdown /s /t 1\")\n",
    "  \n",
    "def restart():\n",
    "    return os.system(\"shutdown /r /t 1\")\n",
    "  \n",
    "def logout():\n",
    "    return os.system(\"shutdown -l\")\n",
    "  \n",
    "# tkinter object\n",
    "master = Tk()\n",
    "  \n",
    "# background set to grey\n",
    "master.configure(bg='light grey')\n",
    "  \n",
    "# creating a button using the widget\n",
    "# Buttons that will call the submit function\n",
    "Button(master, text=\"Shutdown\", command=shutdown).grid(row=0, column=1, pady=10, padx=40)\n",
    "Button(master, text=\"Restart\", command=restart).grid(row=1, column=1, pady=10, padx=40)\n",
    "Button(master, text=\"Log out\", command=logout).grid(row=2, column=1, pady=10, padx=40)\n",
    "  \n",
    "master.mainloop()"
   ]
  }
 ],
 "metadata": {
  "kernelspec": {
   "display_name": "Python 3",
   "language": "python",
   "name": "python3"
  },
  "language_info": {
   "codemirror_mode": {
    "name": "ipython",
    "version": 3
   },
   "file_extension": ".py",
   "mimetype": "text/x-python",
   "name": "python",
   "nbconvert_exporter": "python",
   "pygments_lexer": "ipython3",
   "version": "3.12.3"
  }
 },
 "nbformat": 4,
 "nbformat_minor": 2
}
