{
 "cells": [
  {
   "cell_type": "code",
   "execution_count": null,
   "id": "1b7705b3",
   "metadata": {},
   "outputs": [],
   "source": [
    "\"\"\"\n",
    "Viết class NhanVien gồm các thuộc tính:\n",
    "+ Tên\n",
    "+ Tuổi\n",
    "+ Địa chỉ\n",
    "+ Tiền lương\n",
    "+ Tổng số giờ làm\n",
    "\n",
    "Và các phương thức:\n",
    "- Phương thức __init__()\n",
    "- print_info() : In ra tất cả các thông tin của nhân viên\n",
    "- tinh_thuong(): Tính toán và trả về số tiền thưởng của nhân viên theo công thức sau:\n",
    "Nếu tổng số giờ làm của nhân viên >=200 thì thưởng = lương * 20%\n",
    "Nếu tổng số giờ làm của nhân viên <200 và >=100 thì thưởng = lương * 10%\n",
    "Nếu tổng số giờ làm của nhân viên <100 thì thưởng = 0\n",
    "\"\"\""
   ]
  },
  {
   "cell_type": "code",
   "execution_count": 8,
   "id": "3cf0f41d",
   "metadata": {},
   "outputs": [],
   "source": [
    "class NhanVien:\n",
    "    def __init__(self, name, age, location, salary, shift):\n",
    "        self.name = name\n",
    "        self.age = age\n",
    "        self.location = location\n",
    "        self.salary = salary\n",
    "        self.shift = shift\n",
    "    def print_info(self):\n",
    "        return f\"Tên: {self.name}, Tuổi: {self.age}, Địa chỉ: {self.location}, Lương: {self.salary}, Số giờ làm: {self.shift}\"\n",
    "    def tinh_thuong(self):\n",
    "        if self.shift >= 200:\n",
    "            bonus = self.salary * 0.2\n",
    "        elif 100 <= self.shift < 200:\n",
    "            bonus = self.salary * 0.1\n",
    "        else:\n",
    "            bonus = 0\n",
    "        return f\"Tiền thưởng: {bonus}\"\n",
    "    \n"
   ]
  },
  {
   "cell_type": "code",
   "execution_count": 10,
   "id": "68d6fa97",
   "metadata": {},
   "outputs": [
    {
     "name": "stdout",
     "output_type": "stream",
     "text": [
      "Tên: Thang, Tuổi: 21, Địa chỉ: Dong Anh, Lương: 8000000, Số giờ làm: 100\n",
      "Tiền thưởng: 800000.0\n"
     ]
    }
   ],
   "source": [
    "Thang_DA = NhanVien('Thang', 21, 'Dong Anh', 8000000, 100)\n",
    "Thong_Tin = Thang_DA.print_info()\n",
    "print(Thong_Tin)\n",
    "\n",
    "a = Thang_DA.tinh_thuong()\n",
    "print(a)"
   ]
  }
 ],
 "metadata": {
  "kernelspec": {
   "display_name": "Python 3 (ipykernel)",
   "language": "python",
   "name": "python3"
  },
  "language_info": {
   "codemirror_mode": {
    "name": "ipython",
    "version": 3
   },
   "file_extension": ".py",
   "mimetype": "text/x-python",
   "name": "python",
   "nbconvert_exporter": "python",
   "pygments_lexer": "ipython3",
   "version": "3.12.3"
  }
 },
 "nbformat": 4,
 "nbformat_minor": 5
}
