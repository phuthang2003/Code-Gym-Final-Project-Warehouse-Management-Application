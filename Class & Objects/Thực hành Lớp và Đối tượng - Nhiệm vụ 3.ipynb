{
 "cells": [
  {
   "cell_type": "code",
   "execution_count": null,
   "id": "a42fa0c7",
   "metadata": {},
   "outputs": [],
   "source": [
    "\"\"\"\n",
    "Tạo class có tên Equation gồm có các thuộc tính và phương thức sau:\n",
    "+ Thuộc tính: number1, number2\n",
    "+ Phương thức:\n",
    "- Phương thức tạo __init()__\n",
    "- print_info(): dùng để hiển thị number1, number2\n",
    "- add(): dùng để cộng number1, number2\n",
    "- subtract(): trừ number1, number2\n",
    "- multiply(): dùng để nhân number1, number2\n",
    "- divide(): dùng để chia number1, number2.\n",
    "\n",
    "Sau khi tạo class, khởi tạo một object Equation và in ra kết quả tính toán từ các hàm thực hiện phép tính\n",
    "\"\"\""
   ]
  },
  {
   "cell_type": "code",
   "execution_count": 9,
   "id": "225d5bd0",
   "metadata": {},
   "outputs": [],
   "source": [
    "class Equation:\n",
    "    def __init__(self, number1, number2):\n",
    "        self.number1 = number1\n",
    "        self.number2 = number2\n",
    "        pass\n",
    "\n",
    "    def print_info(self):\n",
    "        return f\"number 1: {self.number1} and number 2: {self.number2}\"\n",
    "    \n",
    "    def add(self):\n",
    "        Tong = self.number1 + self.number2\n",
    "        return f\"{Tong}\"\n",
    "        pass\n",
    "    \n",
    "    def subtract(self):\n",
    "        hieu = self.number1 - self.number2\n",
    "        return f\"{hieu}\"\n",
    "    \n",
    "    def multiply(self):\n",
    "        tich = self.number1 * self.number2\n",
    "        return f\"{tich}\"\n",
    "    \n",
    "    def divide(self):\n",
    "        thuong = self.number1 / self.number2\n",
    "        return f\"{thuong}\""
   ]
  },
  {
   "cell_type": "code",
   "execution_count": 10,
   "id": "0eca4c6c",
   "metadata": {},
   "outputs": [
    {
     "name": "stdout",
     "output_type": "stream",
     "text": [
      "number 1: 2 and number 2: 3\n",
      "5\n"
     ]
    }
   ],
   "source": [
    "a = Equation(2, 3)\n",
    "\n",
    "thong_tin = a.print_info()\n",
    "print(thong_tin)\n",
    "\n",
    "sum = a.add()\n",
    "print(sum)"
   ]
  }
 ],
 "metadata": {
  "kernelspec": {
   "display_name": "Python 3 (ipykernel)",
   "language": "python",
   "name": "python3"
  },
  "language_info": {
   "codemirror_mode": {
    "name": "ipython",
    "version": 3
   },
   "file_extension": ".py",
   "mimetype": "text/x-python",
   "name": "python",
   "nbconvert_exporter": "python",
   "pygments_lexer": "ipython3",
   "version": "3.12.3"
  }
 },
 "nbformat": 4,
 "nbformat_minor": 5
}
