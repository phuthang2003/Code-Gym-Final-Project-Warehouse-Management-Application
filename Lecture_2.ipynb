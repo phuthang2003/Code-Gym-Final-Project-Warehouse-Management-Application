{
 "cells": [
  {
   "cell_type": "code",
   "execution_count": 8,
   "id": "525e21e0-26a6-4c83-9779-4c0b028954ab",
   "metadata": {},
   "outputs": [
    {
     "name": "stdout",
     "output_type": "stream",
     "text": [
      "*********************************\n",
      "*\tName: Trinh Phu Thang\t*\n",
      "*\tCourse: Python\t\t*\n",
      "*\tOrganizer: Codegym\t*\n",
      "*********************************\n"
     ]
    }
   ],
   "source": [
    "print('*********************************')\n",
    "print('*\\tName: Trinh Phu Thang\\t*') #1 - Gioi thieu ten\n",
    "print('*\\tCourse: Python\\t\\t*') #2 - Gioi thieu khoa hoc\n",
    "print('*\\tOrganizer: Codegym\\t*') #3 - Gioi thieu trung tam\n",
    "print('*********************************')"
   ]
  },
  {
   "cell_type": "code",
   "execution_count": null,
   "id": "f4d5d2db-daf0-46df-9ab6-cd534ea46e9b",
   "metadata": {},
   "outputs": [],
   "source": []
  }
 ],
 "metadata": {
  "kernelspec": {
   "display_name": "Python 3 (ipykernel)",
   "language": "python",
   "name": "python3"
  },
  "language_info": {
   "codemirror_mode": {
    "name": "ipython",
    "version": 3
   },
   "file_extension": ".py",
   "mimetype": "text/x-python",
   "name": "python",
   "nbconvert_exporter": "python",
   "pygments_lexer": "ipython3",
   "version": "3.12.3"
  }
 },
 "nbformat": 4,
 "nbformat_minor": 5
}
