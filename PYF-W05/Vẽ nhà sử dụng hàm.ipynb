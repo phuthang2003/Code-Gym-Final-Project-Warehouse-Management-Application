{
 "cells": [
  {
   "cell_type": "code",
   "execution_count": 1,
   "metadata": {},
   "outputs": [
    {
     "name": "stdout",
     "output_type": "stream",
     "text": [
      "Gọi biến toàn cục ở trong hàm: biến toàn cục x\n"
     ]
    }
   ],
   "source": [
    "x = \"biến toàn cục x\"\n",
    "def my_function():\n",
    "  \tprint(\"Gọi biến toàn cục ở trong hàm: \" + x)\n",
    "my_function()"
   ]
  },
  {
   "cell_type": "code",
   "execution_count": 2,
   "metadata": {},
   "outputs": [
    {
     "name": "stdout",
     "output_type": "stream",
     "text": [
      "biến toàn cục, được khai báo trong hàm!\n",
      "biến toàn cục, được khai báo trong hàm!\n"
     ]
    }
   ],
   "source": [
    "def my_function():\n",
    "    global x\n",
    "    x = \"biến toàn cục, được khai báo trong hàm!\"\n",
    "    print(x)\n",
    "my_function()\n",
    "print(x)"
   ]
  },
  {
   "cell_type": "code",
   "execution_count": 3,
   "metadata": {},
   "outputs": [
    {
     "name": "stdout",
     "output_type": "stream",
     "text": [
      "6\n"
     ]
    }
   ],
   "source": [
    "def sum(*matrix):\n",
    "    s = 0\n",
    "    for i in range(len(matrix)):\n",
    "        s += matrix[i]\n",
    "    return s\n",
    "\n",
    "\n",
    "d = sum(1, 2, 3)\n",
    "print(d)"
   ]
  },
  {
   "cell_type": "code",
   "execution_count": 4,
   "metadata": {},
   "outputs": [
    {
     "name": "stdout",
     "output_type": "stream",
     "text": [
      "13 7 30\n"
     ]
    }
   ],
   "source": [
    "def calculator(a, b):\n",
    "    sum = a + b\n",
    "    sub = a - b\n",
    "    mul = a * b\n",
    "    print(sum, sub, mul)\n",
    "\n",
    "\n",
    "a = calculator(10, 3)"
   ]
  },
  {
   "cell_type": "code",
   "execution_count": 10,
   "metadata": {},
   "outputs": [],
   "source": [
    "import turtle\n",
    "import math"
   ]
  },
  {
   "cell_type": "code",
   "execution_count": 6,
   "metadata": {},
   "outputs": [],
   "source": [
    "def draw(r):\n",
    "    \"\"\"Hàm vẽ hình tròn với bán kính r\"\"\"\n",
    "    t = turtle.Turtle()\n",
    "    t.hideturtle()\n",
    "    t.pencolor('red')\n",
    "    t.circle(r)"
   ]
  },
  {
   "cell_type": "code",
   "execution_count": 9,
   "metadata": {},
   "outputs": [],
   "source": [
    "circle_1 = draw(100)"
   ]
  },
  {
   "cell_type": "code",
   "execution_count": 11,
   "metadata": {},
   "outputs": [],
   "source": [
    "def area(r):\n",
    "    \"\"\"Hàm tính diện tích hình tròn với bán kính r\"\"\"\n",
    "    return math.pi * r * r"
   ]
  },
  {
   "cell_type": "code",
   "execution_count": 14,
   "metadata": {},
   "outputs": [
    {
     "name": "stdout",
     "output_type": "stream",
     "text": [
      "314.1592653589793\n"
     ]
    }
   ],
   "source": [
    "s = area(10)\n",
    "print(s)"
   ]
  },
  {
   "cell_type": "code",
   "execution_count": 15,
   "metadata": {},
   "outputs": [
    {
     "name": "stdout",
     "output_type": "stream",
     "text": [
      "Diện tích của hình tròn có bán kính = 10.0 là: 314.1592653589793\n"
     ]
    }
   ],
   "source": [
    "r = float(input(\"Nhập vào bán kính: \"))\n",
    "draw(r)\n",
    "s = area(r)\n",
    "print(\"Diện tích của hình tròn có bán kính = {} là: {}\".format(r, s))"
   ]
  },
  {
   "cell_type": "code",
   "execution_count": 18,
   "metadata": {},
   "outputs": [],
   "source": [
    "import turtle\n",
    "\n",
    "def draw_rect(t, x, y, width, height, color):\n",
    "\n",
    "    t.up()\n",
    "    t.goto(x, y)\n",
    "    t.down()\n",
    "    t.color(color)\n",
    "    t.begin_fill()\n",
    "    for _ in range(2):\n",
    "        t.forward(width)\n",
    "        t.left(90)\n",
    "        t.forward(height)\n",
    "        t.left(90)\n",
    "    t.end_fill()\n",
    "\n",
    "def draw_house():\n",
    "\n",
    "    screen = turtle.Screen()\n",
    "    screen.colormode(1.0) \n",
    "    \n",
    "    t = turtle.Turtle()\n",
    "    t.speed(0)\n",
    "    \n",
    "    # Draw three stories with solid colors\n",
    "    draw_rect(t, -100, 0, 200, 100, \"red\")  # First story\n",
    "    draw_rect(t, -100, 100, 200, 100, \"yellow\")  # Second story\n",
    "    draw_rect(t, -100, 200, 200, 100, \"green\")  # Third story\n",
    "    \n",
    "\n",
    "    t.hideturtle()\n",
    "    screen.mainloop()\n",
    "\n",
    "\n",
    "draw_house()\n"
   ]
  }
 ],
 "metadata": {
  "kernelspec": {
   "display_name": "Python 3",
   "language": "python",
   "name": "python3"
  },
  "language_info": {
   "codemirror_mode": {
    "name": "ipython",
    "version": 3
   },
   "file_extension": ".py",
   "mimetype": "text/x-python",
   "name": "python",
   "nbconvert_exporter": "python",
   "pygments_lexer": "ipython3",
   "version": "3.12.3"
  }
 },
 "nbformat": 4,
 "nbformat_minor": 2
}
